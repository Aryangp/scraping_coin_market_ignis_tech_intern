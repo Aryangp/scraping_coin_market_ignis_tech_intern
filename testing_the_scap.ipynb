{
 "cells": [
  {
   "cell_type": "code",
   "execution_count": 1,
   "id": "da16f3aa",
   "metadata": {},
   "outputs": [],
   "source": [
    "from selenium import webdriver\n",
    "from selenium.webdriver import ChromeOptions\n",
    "from selenium.webdriver.common.by import By"
   ]
  },
  {
   "cell_type": "code",
   "execution_count": 19,
   "id": "38ac9a71",
   "metadata": {},
   "outputs": [
    {
     "name": "stdout",
     "output_type": "stream",
     "text": [
      "#649\n",
      "#649\n"
     ]
    }
   ],
   "source": [
    "\"\"\"\n",
    "this file is used for my personal purpose of finding the exact tags and class name to get specific element \n",
    "\n",
    "\"\"\"\n",
    "\n",
    "\n",
    "\n",
    "options=ChromeOptions()\n",
    "options.add_argument(\"--headless=new\")\n",
    "options.add_argument('--remote-debugging-pipe')\n",
    "# driver = webdriver.Chrome(service=ChromeService(ChromeDriverManager().install()))\n",
    "with webdriver.Chrome(options=options) as driver:\n",
    "        url = \"https://coinmarketcap.com/currencies/duko/\"\n",
    "        driver.get(url)\n",
    "        coin = \"DUKO\"\n",
    "        price =driver.find_element(By.XPATH, \"//span[contains(@class,'fsQm')]\").text  #hPHvUM\n",
    "        pricePrecentage=driver.find_element(By.XPATH,\"//p[contains(@class,'iPawMI')]\").text\n",
    "        allCap= driver.find_elements(By.XPATH, '//dd')\n",
    "        typeCoin=driver.find_element(By.XPATH,\"//span[contains(@class,'dEZnuB')]\").text  #eESYbg \n",
    "        codeCoin=driver.find_element(By.XPATH,\"//span[contains(@class,'eESYbg')]\").text\n",
    "        websiteLinks=driver.find_element(By.XPATH, \"//a\")\n",
    "        rank=driver.find_element(By.XPATH, \"//div[contains(@class,'sliderTd')]\")\n",
    "        rank2=driver.find_element(By.XPATH, \"//div[contains(@class,'sliderTd')]\")\n",
    "        maketCap=allCap[0].text\n",
    "        volume=allCap[1].text\n",
    "        circulatingSupply=allCap[2].text\n",
    "        totalSupply=allCap[3].text\n",
    "        dilutedMarketCap=allCap[4].text\n",
    "        fullyDilutedMarketCap=allCap[5].text\n",
    "        \n",
    "#         print(price)\n",
    "#         print(pricePrecentage)\n",
    "#         print(maketCap.split(\"\\n\"))\n",
    "#         print(volume)\n",
    "        print(rank.text)\n",
    "        print(rank2.text)\n",
    "#         print(circulatingSupply)\n",
    "#         print(totalSupply)\n",
    "#         print(dilutedMarketCap)   \n",
    "#         print(fullyDilutedMarketCap)  \n",
    "#         print(typeCoin)\n",
    "#         print(codeCoin)\n",
    "#         print(websiteLinks.get_attribute('href'))"
   ]
  },
  {
   "cell_type": "code",
   "execution_count": null,
   "id": "594de421",
   "metadata": {},
   "outputs": [],
   "source": []
  }
 ],
 "metadata": {
  "kernelspec": {
   "display_name": "Python 3 (ipykernel)",
   "language": "python",
   "name": "python3"
  },
  "language_info": {
   "codemirror_mode": {
    "name": "ipython",
    "version": 3
   },
   "file_extension": ".py",
   "mimetype": "text/x-python",
   "name": "python",
   "nbconvert_exporter": "python",
   "pygments_lexer": "ipython3",
   "version": "3.11.3"
  }
 },
 "nbformat": 4,
 "nbformat_minor": 5
}
